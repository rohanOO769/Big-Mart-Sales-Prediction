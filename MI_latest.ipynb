{
 "cells": [
  {
   "cell_type": "code",
   "execution_count": 1,
   "metadata": {
    "execution": {
     "iopub.execute_input": "2021-01-23T10:10:35.312091Z",
     "iopub.status.busy": "2021-01-23T10:10:35.311338Z",
     "iopub.status.idle": "2021-01-23T10:10:36.493618Z",
     "shell.execute_reply": "2021-01-23T10:10:36.494329Z"
    },
    "papermill": {
     "duration": 1.219063,
     "end_time": "2021-01-23T10:10:36.494522",
     "exception": false,
     "start_time": "2021-01-23T10:10:35.275459",
     "status": "completed"
    },
    "tags": []
   },
   "outputs": [],
   "source": [
    "import numpy as np\n",
    "import pandas as pd\n",
    "import seaborn as sns\n",
    "import matplotlib.pyplot as plt\n",
    "%matplotlib inline"
   ]
  },
  {
   "cell_type": "code",
   "execution_count": 2,
   "metadata": {
    "execution": {
     "iopub.execute_input": "2021-01-23T10:10:36.553013Z",
     "iopub.status.busy": "2021-01-23T10:10:36.552293Z",
     "iopub.status.idle": "2021-01-23T10:10:36.639918Z",
     "shell.execute_reply": "2021-01-23T10:10:36.639148Z"
    },
    "papermill": {
     "duration": 0.117791,
     "end_time": "2021-01-23T10:10:36.640047",
     "exception": false,
     "start_time": "2021-01-23T10:10:36.522256",
     "status": "completed"
    },
    "tags": []
   },
   "outputs": [],
   "source": [
    "#Importing Datasets\n",
    "train_data = pd.read_csv(\"D:/New folder (5)/Machine Intelligence/Project/New folder/Train_data.csv\")\n",
    "test_data = pd.read_csv(\"D:/New folder (5)/Machine Intelligence/Project/New folder/Test_data.csv\")"
   ]
  },
  {
   "cell_type": "code",
   "execution_count": 3,
   "metadata": {
    "execution": {
     "iopub.execute_input": "2021-01-23T10:10:36.700565Z",
     "iopub.status.busy": "2021-01-23T10:10:36.699905Z",
     "iopub.status.idle": "2021-01-23T10:10:36.732862Z",
     "shell.execute_reply": "2021-01-23T10:10:36.733413Z"
    },
    "papermill": {
     "duration": 0.065309,
     "end_time": "2021-01-23T10:10:36.733560",
     "exception": false,
     "start_time": "2021-01-23T10:10:36.668251",
     "status": "completed"
    },
    "tags": []
   },
   "outputs": [
    {
     "data": {
      "text/html": [
       "<div>\n",
       "<style scoped>\n",
       "    .dataframe tbody tr th:only-of-type {\n",
       "        vertical-align: middle;\n",
       "    }\n",
       "\n",
       "    .dataframe tbody tr th {\n",
       "        vertical-align: top;\n",
       "    }\n",
       "\n",
       "    .dataframe thead th {\n",
       "        text-align: right;\n",
       "    }\n",
       "</style>\n",
       "<table border=\"1\" class=\"dataframe\">\n",
       "  <thead>\n",
       "    <tr style=\"text-align: right;\">\n",
       "      <th></th>\n",
       "      <th>Item_Identifier</th>\n",
       "      <th>Item_Weight</th>\n",
       "      <th>Item_Fat_Content</th>\n",
       "      <th>Item_Visibility</th>\n",
       "      <th>Item_Type</th>\n",
       "      <th>Item_MRP</th>\n",
       "      <th>Outlet_Identifier</th>\n",
       "      <th>Outlet_Establishment_Year</th>\n",
       "      <th>Outlet_Size</th>\n",
       "      <th>Outlet_Location_Type</th>\n",
       "      <th>Outlet_Type</th>\n",
       "      <th>Item_Outlet_Sales</th>\n",
       "    </tr>\n",
       "  </thead>\n",
       "  <tbody>\n",
       "    <tr>\n",
       "      <th>0</th>\n",
       "      <td>FDA15</td>\n",
       "      <td>9.30</td>\n",
       "      <td>Low Fat</td>\n",
       "      <td>0.016047</td>\n",
       "      <td>Dairy</td>\n",
       "      <td>249.8092</td>\n",
       "      <td>OUT049</td>\n",
       "      <td>1999</td>\n",
       "      <td>Medium</td>\n",
       "      <td>Tier 1</td>\n",
       "      <td>Supermarket Type1</td>\n",
       "      <td>3735.1380</td>\n",
       "    </tr>\n",
       "    <tr>\n",
       "      <th>1</th>\n",
       "      <td>DRC01</td>\n",
       "      <td>5.92</td>\n",
       "      <td>Regular</td>\n",
       "      <td>0.019278</td>\n",
       "      <td>Soft Drinks</td>\n",
       "      <td>48.2692</td>\n",
       "      <td>OUT018</td>\n",
       "      <td>2009</td>\n",
       "      <td>Medium</td>\n",
       "      <td>Tier 3</td>\n",
       "      <td>Supermarket Type2</td>\n",
       "      <td>443.4228</td>\n",
       "    </tr>\n",
       "    <tr>\n",
       "      <th>2</th>\n",
       "      <td>FDN15</td>\n",
       "      <td>17.50</td>\n",
       "      <td>Low Fat</td>\n",
       "      <td>0.016760</td>\n",
       "      <td>Meat</td>\n",
       "      <td>141.6180</td>\n",
       "      <td>OUT049</td>\n",
       "      <td>1999</td>\n",
       "      <td>Medium</td>\n",
       "      <td>Tier 1</td>\n",
       "      <td>Supermarket Type1</td>\n",
       "      <td>2097.2700</td>\n",
       "    </tr>\n",
       "    <tr>\n",
       "      <th>3</th>\n",
       "      <td>FDX07</td>\n",
       "      <td>19.20</td>\n",
       "      <td>Regular</td>\n",
       "      <td>0.000000</td>\n",
       "      <td>Fruits and Vegetables</td>\n",
       "      <td>182.0950</td>\n",
       "      <td>OUT010</td>\n",
       "      <td>1998</td>\n",
       "      <td>NaN</td>\n",
       "      <td>Tier 3</td>\n",
       "      <td>Grocery Store</td>\n",
       "      <td>732.3800</td>\n",
       "    </tr>\n",
       "    <tr>\n",
       "      <th>4</th>\n",
       "      <td>NCD19</td>\n",
       "      <td>8.93</td>\n",
       "      <td>Low Fat</td>\n",
       "      <td>0.000000</td>\n",
       "      <td>Household</td>\n",
       "      <td>53.8614</td>\n",
       "      <td>OUT013</td>\n",
       "      <td>1987</td>\n",
       "      <td>High</td>\n",
       "      <td>Tier 3</td>\n",
       "      <td>Supermarket Type1</td>\n",
       "      <td>994.7052</td>\n",
       "    </tr>\n",
       "  </tbody>\n",
       "</table>\n",
       "</div>"
      ],
      "text/plain": [
       "  Item_Identifier  Item_Weight Item_Fat_Content  Item_Visibility  \\\n",
       "0           FDA15         9.30          Low Fat         0.016047   \n",
       "1           DRC01         5.92          Regular         0.019278   \n",
       "2           FDN15        17.50          Low Fat         0.016760   \n",
       "3           FDX07        19.20          Regular         0.000000   \n",
       "4           NCD19         8.93          Low Fat         0.000000   \n",
       "\n",
       "               Item_Type  Item_MRP Outlet_Identifier  \\\n",
       "0                  Dairy  249.8092            OUT049   \n",
       "1            Soft Drinks   48.2692            OUT018   \n",
       "2                   Meat  141.6180            OUT049   \n",
       "3  Fruits and Vegetables  182.0950            OUT010   \n",
       "4              Household   53.8614            OUT013   \n",
       "\n",
       "   Outlet_Establishment_Year Outlet_Size Outlet_Location_Type  \\\n",
       "0                       1999      Medium               Tier 1   \n",
       "1                       2009      Medium               Tier 3   \n",
       "2                       1999      Medium               Tier 1   \n",
       "3                       1998         NaN               Tier 3   \n",
       "4                       1987        High               Tier 3   \n",
       "\n",
       "         Outlet_Type  Item_Outlet_Sales  \n",
       "0  Supermarket Type1          3735.1380  \n",
       "1  Supermarket Type2           443.4228  \n",
       "2  Supermarket Type1          2097.2700  \n",
       "3      Grocery Store           732.3800  \n",
       "4  Supermarket Type1           994.7052  "
      ]
     },
     "execution_count": 3,
     "metadata": {},
     "output_type": "execute_result"
    }
   ],
   "source": [
    "train_data.head()"
   ]
  },
  {
   "cell_type": "code",
   "execution_count": 4,
   "metadata": {
    "execution": {
     "iopub.execute_input": "2021-01-23T10:10:36.809366Z",
     "iopub.status.busy": "2021-01-23T10:10:36.808563Z",
     "iopub.status.idle": "2021-01-23T10:10:36.811794Z",
     "shell.execute_reply": "2021-01-23T10:10:36.812327Z"
    },
    "papermill": {
     "duration": 0.050024,
     "end_time": "2021-01-23T10:10:36.812492",
     "exception": false,
     "start_time": "2021-01-23T10:10:36.762468",
     "status": "completed"
    },
    "tags": []
   },
   "outputs": [
    {
     "data": {
      "text/html": [
       "<div>\n",
       "<style scoped>\n",
       "    .dataframe tbody tr th:only-of-type {\n",
       "        vertical-align: middle;\n",
       "    }\n",
       "\n",
       "    .dataframe tbody tr th {\n",
       "        vertical-align: top;\n",
       "    }\n",
       "\n",
       "    .dataframe thead th {\n",
       "        text-align: right;\n",
       "    }\n",
       "</style>\n",
       "<table border=\"1\" class=\"dataframe\">\n",
       "  <thead>\n",
       "    <tr style=\"text-align: right;\">\n",
       "      <th></th>\n",
       "      <th>Item_Identifier</th>\n",
       "      <th>Item_Weight</th>\n",
       "      <th>Item_Fat_Content</th>\n",
       "      <th>Item_Visibility</th>\n",
       "      <th>Item_Type</th>\n",
       "      <th>Item_MRP</th>\n",
       "      <th>Outlet_Identifier</th>\n",
       "      <th>Outlet_Establishment_Year</th>\n",
       "      <th>Outlet_Size</th>\n",
       "      <th>Outlet_Location_Type</th>\n",
       "      <th>Outlet_Type</th>\n",
       "    </tr>\n",
       "  </thead>\n",
       "  <tbody>\n",
       "    <tr>\n",
       "      <th>0</th>\n",
       "      <td>FDW58</td>\n",
       "      <td>20.750</td>\n",
       "      <td>Low Fat</td>\n",
       "      <td>0.007565</td>\n",
       "      <td>Snack Foods</td>\n",
       "      <td>107.8622</td>\n",
       "      <td>OUT049</td>\n",
       "      <td>1999</td>\n",
       "      <td>Medium</td>\n",
       "      <td>Tier 1</td>\n",
       "      <td>Supermarket Type1</td>\n",
       "    </tr>\n",
       "    <tr>\n",
       "      <th>1</th>\n",
       "      <td>FDW14</td>\n",
       "      <td>8.300</td>\n",
       "      <td>reg</td>\n",
       "      <td>0.038428</td>\n",
       "      <td>Dairy</td>\n",
       "      <td>87.3198</td>\n",
       "      <td>OUT017</td>\n",
       "      <td>2007</td>\n",
       "      <td>NaN</td>\n",
       "      <td>Tier 2</td>\n",
       "      <td>Supermarket Type1</td>\n",
       "    </tr>\n",
       "    <tr>\n",
       "      <th>2</th>\n",
       "      <td>NCN55</td>\n",
       "      <td>14.600</td>\n",
       "      <td>Low Fat</td>\n",
       "      <td>0.099575</td>\n",
       "      <td>Others</td>\n",
       "      <td>241.7538</td>\n",
       "      <td>OUT010</td>\n",
       "      <td>1998</td>\n",
       "      <td>NaN</td>\n",
       "      <td>Tier 3</td>\n",
       "      <td>Grocery Store</td>\n",
       "    </tr>\n",
       "    <tr>\n",
       "      <th>3</th>\n",
       "      <td>FDQ58</td>\n",
       "      <td>7.315</td>\n",
       "      <td>Low Fat</td>\n",
       "      <td>0.015388</td>\n",
       "      <td>Snack Foods</td>\n",
       "      <td>155.0340</td>\n",
       "      <td>OUT017</td>\n",
       "      <td>2007</td>\n",
       "      <td>NaN</td>\n",
       "      <td>Tier 2</td>\n",
       "      <td>Supermarket Type1</td>\n",
       "    </tr>\n",
       "    <tr>\n",
       "      <th>4</th>\n",
       "      <td>FDY38</td>\n",
       "      <td>NaN</td>\n",
       "      <td>Regular</td>\n",
       "      <td>0.118599</td>\n",
       "      <td>Dairy</td>\n",
       "      <td>234.2300</td>\n",
       "      <td>OUT027</td>\n",
       "      <td>1985</td>\n",
       "      <td>Medium</td>\n",
       "      <td>Tier 3</td>\n",
       "      <td>Supermarket Type3</td>\n",
       "    </tr>\n",
       "  </tbody>\n",
       "</table>\n",
       "</div>"
      ],
      "text/plain": [
       "  Item_Identifier  Item_Weight Item_Fat_Content  Item_Visibility    Item_Type  \\\n",
       "0           FDW58       20.750          Low Fat         0.007565  Snack Foods   \n",
       "1           FDW14        8.300              reg         0.038428        Dairy   \n",
       "2           NCN55       14.600          Low Fat         0.099575       Others   \n",
       "3           FDQ58        7.315          Low Fat         0.015388  Snack Foods   \n",
       "4           FDY38          NaN          Regular         0.118599        Dairy   \n",
       "\n",
       "   Item_MRP Outlet_Identifier  Outlet_Establishment_Year Outlet_Size  \\\n",
       "0  107.8622            OUT049                       1999      Medium   \n",
       "1   87.3198            OUT017                       2007         NaN   \n",
       "2  241.7538            OUT010                       1998         NaN   \n",
       "3  155.0340            OUT017                       2007         NaN   \n",
       "4  234.2300            OUT027                       1985      Medium   \n",
       "\n",
       "  Outlet_Location_Type        Outlet_Type  \n",
       "0               Tier 1  Supermarket Type1  \n",
       "1               Tier 2  Supermarket Type1  \n",
       "2               Tier 3      Grocery Store  \n",
       "3               Tier 2  Supermarket Type1  \n",
       "4               Tier 3  Supermarket Type3  "
      ]
     },
     "execution_count": 4,
     "metadata": {},
     "output_type": "execute_result"
    }
   ],
   "source": [
    "test_data.head()"
   ]
  },
  {
   "cell_type": "markdown",
   "metadata": {},
   "source": [
    "### Cleaning"
   ]
  },
  {
   "cell_type": "code",
   "execution_count": 5,
   "metadata": {
    "execution": {
     "iopub.execute_input": "2021-01-23T10:10:36.875128Z",
     "iopub.status.busy": "2021-01-23T10:10:36.874393Z",
     "iopub.status.idle": "2021-01-23T10:10:36.896353Z",
     "shell.execute_reply": "2021-01-23T10:10:36.896877Z"
    },
    "papermill": {
     "duration": 0.055205,
     "end_time": "2021-01-23T10:10:36.897058",
     "exception": false,
     "start_time": "2021-01-23T10:10:36.841853",
     "status": "completed"
    },
    "tags": []
   },
   "outputs": [
    {
     "name": "stdout",
     "output_type": "stream",
     "text": [
      "<class 'pandas.core.frame.DataFrame'>\n",
      "RangeIndex: 8523 entries, 0 to 8522\n",
      "Data columns (total 12 columns):\n",
      " #   Column                     Non-Null Count  Dtype  \n",
      "---  ------                     --------------  -----  \n",
      " 0   Item_Identifier            8523 non-null   object \n",
      " 1   Item_Weight                7060 non-null   float64\n",
      " 2   Item_Fat_Content           8523 non-null   object \n",
      " 3   Item_Visibility            8523 non-null   float64\n",
      " 4   Item_Type                  8523 non-null   object \n",
      " 5   Item_MRP                   8523 non-null   float64\n",
      " 6   Outlet_Identifier          8523 non-null   object \n",
      " 7   Outlet_Establishment_Year  8523 non-null   int64  \n",
      " 8   Outlet_Size                6113 non-null   object \n",
      " 9   Outlet_Location_Type       8523 non-null   object \n",
      " 10  Outlet_Type                8523 non-null   object \n",
      " 11  Item_Outlet_Sales          8523 non-null   float64\n",
      "dtypes: float64(4), int64(1), object(7)\n",
      "memory usage: 799.2+ KB\n"
     ]
    }
   ],
   "source": [
    "train_data.info()"
   ]
  },
  {
   "cell_type": "code",
   "execution_count": 6,
   "metadata": {
    "execution": {
     "iopub.execute_input": "2021-01-23T10:10:36.961856Z",
     "iopub.status.busy": "2021-01-23T10:10:36.961161Z",
     "iopub.status.idle": "2021-01-23T10:10:36.972721Z",
     "shell.execute_reply": "2021-01-23T10:10:36.971316Z"
    },
    "papermill": {
     "duration": 0.044974,
     "end_time": "2021-01-23T10:10:36.972861",
     "exception": false,
     "start_time": "2021-01-23T10:10:36.927887",
     "status": "completed"
    },
    "tags": []
   },
   "outputs": [],
   "source": [
    "train_data.drop('Item_Identifier',axis=1,inplace=True)\n",
    "test_data.drop('Item_Identifier',axis=1,inplace=True)"
   ]
  },
  {
   "cell_type": "code",
   "execution_count": 7,
   "metadata": {
    "execution": {
     "iopub.execute_input": "2021-01-23T10:10:37.044615Z",
     "iopub.status.busy": "2021-01-23T10:10:37.043765Z",
     "iopub.status.idle": "2021-01-23T10:10:37.055927Z",
     "shell.execute_reply": "2021-01-23T10:10:37.055378Z"
    },
    "papermill": {
     "duration": 0.052968,
     "end_time": "2021-01-23T10:10:37.056048",
     "exception": false,
     "start_time": "2021-01-23T10:10:37.003080",
     "status": "completed"
    },
    "tags": []
   },
   "outputs": [
    {
     "name": "stdout",
     "output_type": "stream",
     "text": [
      "<class 'pandas.core.frame.DataFrame'>\n",
      "RangeIndex: 8523 entries, 0 to 8522\n",
      "Data columns (total 11 columns):\n",
      " #   Column                     Non-Null Count  Dtype  \n",
      "---  ------                     --------------  -----  \n",
      " 0   Item_Weight                7060 non-null   float64\n",
      " 1   Item_Fat_Content           8523 non-null   object \n",
      " 2   Item_Visibility            8523 non-null   float64\n",
      " 3   Item_Type                  8523 non-null   object \n",
      " 4   Item_MRP                   8523 non-null   float64\n",
      " 5   Outlet_Identifier          8523 non-null   object \n",
      " 6   Outlet_Establishment_Year  8523 non-null   int64  \n",
      " 7   Outlet_Size                6113 non-null   object \n",
      " 8   Outlet_Location_Type       8523 non-null   object \n",
      " 9   Outlet_Type                8523 non-null   object \n",
      " 10  Item_Outlet_Sales          8523 non-null   float64\n",
      "dtypes: float64(4), int64(1), object(6)\n",
      "memory usage: 732.6+ KB\n"
     ]
    }
   ],
   "source": [
    "train_data.info()"
   ]
  },
  {
   "cell_type": "code",
   "execution_count": 8,
   "metadata": {
    "execution": {
     "iopub.execute_input": "2021-01-23T10:10:37.125657Z",
     "iopub.status.busy": "2021-01-23T10:10:37.124816Z",
     "iopub.status.idle": "2021-01-23T10:10:37.313369Z",
     "shell.execute_reply": "2021-01-23T10:10:37.312730Z"
    },
    "papermill": {
     "duration": 0.226863,
     "end_time": "2021-01-23T10:10:37.313506",
     "exception": false,
     "start_time": "2021-01-23T10:10:37.086643",
     "status": "completed"
    },
    "tags": []
   },
   "outputs": [
    {
     "data": {
      "text/plain": [
       "<AxesSubplot:xlabel='Item_Fat_Content', ylabel='count'>"
      ]
     },
     "execution_count": 8,
     "metadata": {},
     "output_type": "execute_result"
    },
    {
     "data": {
      "image/png": "[encoded data removed]",
      "text/plain": [
       "<Figure size 432x288 with 1 Axes>"
      ]
     },
     "metadata": {
      "needs_background": "light"
     },
     "output_type": "display_data"
    }
   ],
   "source": [
    "sns.countplot(x='Item_Fat_Content',data=train_data)"
   ]
  },
  {
   "cell_type": "code",
   "execution_count": 9,
   "metadata": {
    "execution": {
     "iopub.execute_input": "2021-01-23T10:10:37.384015Z",
     "iopub.status.busy": "2021-01-23T10:10:37.383284Z",
     "iopub.status.idle": "2021-01-23T10:10:37.385478Z",
     "shell.execute_reply": "2021-01-23T10:10:37.385997Z"
    },
    "papermill": {
     "duration": 0.040982,
     "end_time": "2021-01-23T10:10:37.386156",
     "exception": false,
     "start_time": "2021-01-23T10:10:37.345174",
     "status": "completed"
    },
    "tags": []
   },
   "outputs": [],
   "source": [
    "#Renaming values for proper ecaluation\n",
    "def clean_col(col):\n",
    "    if(col==\"low fat\" or col==\"LF\"):\n",
    "        return \"Low Fat\"\n",
    "    elif(col==\"reg\"):\n",
    "        return \"Regular\"\n",
    "    else:\n",
    "        return col"
   ]
  },
  {
   "cell_type": "code",
   "execution_count": 10,
   "metadata": {
    "execution": {
     "iopub.execute_input": "2021-01-23T10:10:37.453235Z",
     "iopub.status.busy": "2021-01-23T10:10:37.452536Z",
     "iopub.status.idle": "2021-01-23T10:10:37.462694Z",
     "shell.execute_reply": "2021-01-23T10:10:37.461713Z"
    },
    "papermill": {
     "duration": 0.045206,
     "end_time": "2021-01-23T10:10:37.462829",
     "exception": false,
     "start_time": "2021-01-23T10:10:37.417623",
     "status": "completed"
    },
    "tags": []
   },
   "outputs": [],
   "source": [
    "train_data['Item_Fat_Content']=train_data['Item_Fat_Content'].apply(clean_col)"
   ]
  },
  {
   "cell_type": "code",
   "execution_count": 11,
   "metadata": {
    "execution": {
     "iopub.execute_input": "2021-01-23T10:10:37.531725Z",
     "iopub.status.busy": "2021-01-23T10:10:37.530637Z",
     "iopub.status.idle": "2021-01-23T10:10:37.650024Z",
     "shell.execute_reply": "2021-01-23T10:10:37.650511Z"
    },
    "papermill": {
     "duration": 0.155421,
     "end_time": "2021-01-23T10:10:37.650681",
     "exception": false,
     "start_time": "2021-01-23T10:10:37.495260",
     "status": "completed"
    },
    "tags": []
   },
   "outputs": [
    {
     "data": {
      "text/plain": [
       "<AxesSubplot:xlabel='Item_Fat_Content', ylabel='count'>"
      ]
     },
     "execution_count": 11,
     "metadata": {},
     "output_type": "execute_result"
    },
    {
     "data": {
      "image/png": "[encoded data removed]",
      "text/plain": [
       "<Figure size 432x288 with 1 Axes>"
      ]
     },
     "metadata": {
      "needs_background": "light"
     },
     "output_type": "display_data"
    }
   ],
   "source": [
    "sns.countplot(x='Item_Fat_Content',data=train_data)"
   ]
  },
  {
   "cell_type": "code",
   "execution_count": 12,
   "metadata": {
    "execution": {
     "iopub.execute_input": "2021-01-23T10:10:37.720524Z",
     "iopub.status.busy": "2021-01-23T10:10:37.719492Z",
     "iopub.status.idle": "2021-01-23T10:10:37.859533Z",
     "shell.execute_reply": "2021-01-23T10:10:37.860077Z"
    },
    "papermill": {
     "duration": 0.176524,
     "end_time": "2021-01-23T10:10:37.860242",
     "exception": false,
     "start_time": "2021-01-23T10:10:37.683718",
     "status": "completed"
    },
    "tags": []
   },
   "outputs": [
    {
     "data": {
      "text/plain": [
       "<AxesSubplot:xlabel='Item_Fat_Content', ylabel='count'>"
      ]
     },
     "execution_count": 12,
     "metadata": {},
     "output_type": "execute_result"
    },
    {
     "data": {
      "image/png": "[encoded data removed]",
      "text/plain": [
       "<Figure size 432x288 with 1 Axes>"
      ]
     },
     "metadata": {
      "needs_background": "light"
     },
     "output_type": "display_data"
    }
   ],
   "source": [
    "sns.countplot(x='Item_Fat_Content',data=test_data)"
   ]
  },
  {
   "cell_type": "code",
   "execution_count": 13,
   "metadata": {
    "execution": {
     "iopub.execute_input": "2021-01-23T10:10:37.944347Z",
     "iopub.status.busy": "2021-01-23T10:10:37.943078Z",
     "iopub.status.idle": "2021-01-23T10:10:37.946263Z",
     "shell.execute_reply": "2021-01-23T10:10:37.947423Z"
    },
    "papermill": {
     "duration": 0.052376,
     "end_time": "2021-01-23T10:10:37.947765",
     "exception": false,
     "start_time": "2021-01-23T10:10:37.895389",
     "status": "completed"
    },
    "tags": []
   },
   "outputs": [],
   "source": [
    "test_data['Item_Fat_Content']=test_data['Item_Fat_Content'].apply(clean_col)"
   ]
  },
  {
   "cell_type": "code",
   "execution_count": 14,
   "metadata": {
    "execution": {
     "iopub.execute_input": "2021-01-23T10:10:38.034563Z",
     "iopub.status.busy": "2021-01-23T10:10:38.033858Z",
     "iopub.status.idle": "2021-01-23T10:10:38.171311Z",
     "shell.execute_reply": "2021-01-23T10:10:38.171868Z"
    },
    "papermill": {
     "duration": 0.184142,
     "end_time": "2021-01-23T10:10:38.172020",
     "exception": false,
     "start_time": "2021-01-23T10:10:37.987878",
     "status": "completed"
    },
    "tags": []
   },
   "outputs": [
    {
     "data": {
      "text/plain": [
       "<AxesSubplot:xlabel='Item_Fat_Content', ylabel='count'>"
      ]
     },
     "execution_count": 14,
     "metadata": {},
     "output_type": "execute_result"
    },
    {
     "data": {
      "image/png": "[encoded data removed]",
      "text/plain": [
       "<Figure size 432x288 with 1 Axes>"
      ]
     },
     "metadata": {
      "needs_background": "light"
     },
     "output_type": "display_data"
    }
   ],
   "source": [
    "sns.countplot(x='Item_Fat_Content',data=test_data)"
   ]
  },
  {
   "cell_type": "code",
   "execution_count": 15,
   "metadata": {
    "execution": {
     "iopub.execute_input": "2021-01-23T10:10:38.245991Z",
     "iopub.status.busy": "2021-01-23T10:10:38.245323Z",
     "iopub.status.idle": "2021-01-23T10:10:38.452904Z",
     "shell.execute_reply": "2021-01-23T10:10:38.453407Z"
    },
    "papermill": {
     "duration": 0.24614,
     "end_time": "2021-01-23T10:10:38.453593",
     "exception": false,
     "start_time": "2021-01-23T10:10:38.207453",
     "status": "completed"
    },
    "tags": []
   },
   "outputs": [
    {
     "data": {
      "text/plain": [
       "<AxesSubplot:xlabel='Item_Type', ylabel='count'>"
      ]
     },
     "execution_count": 15,
     "metadata": {},
     "output_type": "execute_result"
    },
    {
     "data": {
      "image/png": "[encoded data removed]",
      "text/plain": [
       "<Figure size 2160x720 with 1 Axes>"
      ]
     },
     "metadata": {
      "needs_background": "light"
     },
     "output_type": "display_data"
    }
   ],
   "source": [
    "#Counting different products\n",
    "plt.figure(figsize=(30,10))\n",
    "sns.countplot(x='Item_Type',data=train_data)"
   ]
  },
  {
   "cell_type": "code",
   "execution_count": 16,
   "metadata": {
    "execution": {
     "iopub.execute_input": "2021-01-23T10:10:38.531183Z",
     "iopub.status.busy": "2021-01-23T10:10:38.530435Z",
     "iopub.status.idle": "2021-01-23T10:10:38.794257Z",
     "shell.execute_reply": "2021-01-23T10:10:38.793542Z"
    },
    "papermill": {
     "duration": 0.303869,
     "end_time": "2021-01-23T10:10:38.794374",
     "exception": false,
     "start_time": "2021-01-23T10:10:38.490505",
     "status": "completed"
    },
    "tags": []
   },
   "outputs": [
    {
     "data": {
      "text/plain": [
       "<AxesSubplot:>"
      ]
     },
     "execution_count": 16,
     "metadata": {},
     "output_type": "execute_result"
    },
    {
     "data": {
      "image/png": "[encoded data removed]",
      "text/plain": [
       "<Figure size 432x288 with 1 Axes>"
      ]
     },
     "metadata": {
      "needs_background": "light"
     },
     "output_type": "display_data"
    }
   ],
   "source": [
    "#Checking for null values\n",
    "sns.heatmap(train_data.isnull(),yticklabels=False,cbar=False,cmap='viridis')"
   ]
  },
  {
   "cell_type": "code",
   "execution_count": 17,
   "metadata": {
    "execution": {
     "iopub.execute_input": "2021-01-23T10:10:38.879990Z",
     "iopub.status.busy": "2021-01-23T10:10:38.879302Z",
     "iopub.status.idle": "2021-01-23T10:10:38.882842Z",
     "shell.execute_reply": "2021-01-23T10:10:38.882299Z"
    },
    "papermill": {
     "duration": 0.05037,
     "end_time": "2021-01-23T10:10:38.882953",
     "exception": false,
     "start_time": "2021-01-23T10:10:38.832583",
     "status": "completed"
    },
    "tags": []
   },
   "outputs": [],
   "source": [
    "train_data.drop('Outlet_Identifier',axis=1,inplace=True)\n",
    "test_data.drop('Outlet_Identifier',axis=1,inplace=True)"
   ]
  },
  {
   "cell_type": "code",
   "execution_count": 18,
   "metadata": {
    "execution": {
     "iopub.execute_input": "2021-01-23T10:10:38.971018Z",
     "iopub.status.busy": "2021-01-23T10:10:38.970279Z",
     "iopub.status.idle": "2021-01-23T10:10:39.247598Z",
     "shell.execute_reply": "2021-01-23T10:10:39.246610Z"
    },
    "papermill": {
     "duration": 0.325687,
     "end_time": "2021-01-23T10:10:39.247746",
     "exception": false,
     "start_time": "2021-01-23T10:10:38.922059",
     "status": "completed"
    },
    "tags": []
   },
   "outputs": [
    {
     "data": {
      "text/plain": [
       "<AxesSubplot:>"
      ]
     },
     "execution_count": 18,
     "metadata": {},
     "output_type": "execute_result"
    },
    {
     "data": {
      "image/png": "[encoded data removed]",
      "text/plain": [
       "<Figure size 432x288 with 1 Axes>"
      ]
     },
     "metadata": {
      "needs_background": "light"
     },
     "output_type": "display_data"
    }
   ],
   "source": [
    "sns.heatmap(train_data.isnull(),yticklabels=False,cbar=False,cmap='viridis')"
   ]
  },
  {
   "cell_type": "code",
   "execution_count": 19,
   "metadata": {
    "execution": {
     "iopub.execute_input": "2021-01-23T10:10:39.332389Z",
     "iopub.status.busy": "2021-01-23T10:10:39.331709Z",
     "iopub.status.idle": "2021-01-23T10:10:39.713802Z",
     "shell.execute_reply": "2021-01-23T10:10:39.714404Z"
    },
    "papermill": {
     "duration": 0.427782,
     "end_time": "2021-01-23T10:10:39.714554",
     "exception": false,
     "start_time": "2021-01-23T10:10:39.286772",
     "status": "completed"
    },
    "tags": []
   },
   "outputs": [
    {
     "data": {
      "text/plain": [
       "<AxesSubplot:xlabel='Item_Type', ylabel='Item_Weight'>"
      ]
     },
     "execution_count": 19,
     "metadata": {},
     "output_type": "execute_result"
    },
    {
     "data": {
      "image/png": "[encoded data removed]",
      "text/plain": [
       "<Figure size 2160x720 with 1 Axes>"
      ]
     },
     "metadata": {
      "needs_background": "light"
     },
     "output_type": "display_data"
    }
   ],
   "source": [
    "# Checking for outliers\n",
    "plt.figure(figsize=(30,10))\n",
    "sns.boxplot(x=\"Item_Type\", y=\"Item_Weight\", data=train_data,palette='rainbow')"
   ]
  },
  {
   "cell_type": "code",
   "execution_count": 20,
   "metadata": {
    "execution": {
     "iopub.execute_input": "2021-01-23T10:10:39.806209Z",
     "iopub.status.busy": "2021-01-23T10:10:39.805472Z",
     "iopub.status.idle": "2021-01-23T10:10:39.816182Z",
     "shell.execute_reply": "2021-01-23T10:10:39.815481Z"
    },
    "papermill": {
     "duration": 0.060056,
     "end_time": "2021-01-23T10:10:39.816298",
     "exception": false,
     "start_time": "2021-01-23T10:10:39.756242",
     "status": "completed"
    },
    "tags": []
   },
   "outputs": [
    {
     "data": {
      "text/plain": [
       "Item_Type\n",
       "Baking Goods             12.277108\n",
       "Breads                   11.346936\n",
       "Breakfast                12.768202\n",
       "Canned                   12.305705\n",
       "Dairy                    13.426069\n",
       "Frozen Foods             12.867061\n",
       "Fruits and Vegetables    13.224769\n",
       "Hard Drinks              11.400328\n",
       "Health and Hygiene       13.142314\n",
       "Household                13.384736\n",
       "Meat                     12.817344\n",
       "Others                   13.853285\n",
       "Seafood                  12.552843\n",
       "Snack Foods              12.987880\n",
       "Soft Drinks              11.847460\n",
       "Starchy Foods            13.690731\n",
       "Name: Item_Weight, dtype: float64"
      ]
     },
     "execution_count": 20,
     "metadata": {},
     "output_type": "execute_result"
    }
   ],
   "source": [
    "train_data.groupby('Item_Type').mean()['Item_Weight']"
   ]
  },
  {
   "cell_type": "code",
   "execution_count": 21,
   "metadata": {
    "execution": {
     "iopub.execute_input": "2021-01-23T10:10:39.903953Z",
     "iopub.status.busy": "2021-01-23T10:10:39.903224Z",
     "iopub.status.idle": "2021-01-23T10:10:39.908941Z",
     "shell.execute_reply": "2021-01-23T10:10:39.909475Z"
    },
    "papermill": {
     "duration": 0.05206,
     "end_time": "2021-01-23T10:10:39.909621",
     "exception": false,
     "start_time": "2021-01-23T10:10:39.857561",
     "status": "completed"
    },
    "tags": []
   },
   "outputs": [],
   "source": [
    "def fill_null(row):\n",
    "    if(pd.isnull(row['Item_Weight'])):\n",
    "        row['Item_Weight']=train_data.groupby('Item_Type').mean()['Item_Weight'][row['Item_Type']]\n",
    "        return row\n",
    "    else:\n",
    "        return row"
   ]
  },
  {
   "cell_type": "code",
   "execution_count": 22,
   "metadata": {
    "execution": {
     "iopub.execute_input": "2021-01-23T10:10:39.997221Z",
     "iopub.status.busy": "2021-01-23T10:10:39.996548Z",
     "iopub.status.idle": "2021-01-23T10:10:45.886081Z",
     "shell.execute_reply": "2021-01-23T10:10:45.885355Z"
    },
    "papermill": {
     "duration": 5.934076,
     "end_time": "2021-01-23T10:10:45.886203",
     "exception": false,
     "start_time": "2021-01-23T10:10:39.952127",
     "status": "completed"
    },
    "tags": []
   },
   "outputs": [],
   "source": [
    "train_data = train_data.apply(fill_null,axis=1)"
   ]
  },
  {
   "cell_type": "code",
   "execution_count": 23,
   "metadata": {
    "execution": {
     "iopub.execute_input": "2021-01-23T10:10:45.985652Z",
     "iopub.status.busy": "2021-01-23T10:10:45.984529Z",
     "iopub.status.idle": "2021-01-23T10:10:46.181383Z",
     "shell.execute_reply": "2021-01-23T10:10:46.180822Z"
    },
    "papermill": {
     "duration": 0.253265,
     "end_time": "2021-01-23T10:10:46.181513",
     "exception": false,
     "start_time": "2021-01-23T10:10:45.928248",
     "status": "completed"
    },
    "tags": []
   },
   "outputs": [
    {
     "data": {
      "text/plain": [
       "<AxesSubplot:>"
      ]
     },
     "execution_count": 23,
     "metadata": {},
     "output_type": "execute_result"
    },
    {
     "data": {
      "image/png": "[encoded data removed]",
      "text/plain": [
       "<Figure size 432x288 with 1 Axes>"
      ]
     },
     "metadata": {
      "needs_background": "light"
     },
     "output_type": "display_data"
    }
   ],
   "source": [
    "sns.heatmap(train_data.isnull(),yticklabels=False,cbar=False,cmap='viridis')"
   ]
  },
  {
   "cell_type": "code",
   "execution_count": 24,
   "metadata": {
    "execution": {
     "iopub.execute_input": "2021-01-23T10:10:46.278534Z",
     "iopub.status.busy": "2021-01-23T10:10:46.275619Z",
     "iopub.status.idle": "2021-01-23T10:10:46.474146Z",
     "shell.execute_reply": "2021-01-23T10:10:46.473435Z"
    },
    "papermill": {
     "duration": 0.249541,
     "end_time": "2021-01-23T10:10:46.474281",
     "exception": false,
     "start_time": "2021-01-23T10:10:46.224740",
     "status": "completed"
    },
    "tags": []
   },
   "outputs": [
    {
     "data": {
      "text/plain": [
       "<AxesSubplot:xlabel='Outlet_Size', ylabel='count'>"
      ]
     },
     "execution_count": 24,
     "metadata": {},
     "output_type": "execute_result"
    },
    {
     "data": {
      "image/png": "[encoded data removed]",
      "text/plain": [
       "<Figure size 432x288 with 1 Axes>"
      ]
     },
     "metadata": {
      "needs_background": "light"
     },
     "output_type": "display_data"
    }
   ],
   "source": [
    "sns.countplot(x='Outlet_Size',data=train_data,hue='Outlet_Type')"
   ]
  },
  {
   "cell_type": "code",
   "execution_count": 25,
   "metadata": {
    "execution": {
     "iopub.execute_input": "2021-01-23T10:10:46.571837Z",
     "iopub.status.busy": "2021-01-23T10:10:46.571043Z",
     "iopub.status.idle": "2021-01-23T10:10:46.573984Z",
     "shell.execute_reply": "2021-01-23T10:10:46.573453Z"
    },
    "papermill": {
     "duration": 0.055141,
     "end_time": "2021-01-23T10:10:46.574116",
     "exception": false,
     "start_time": "2021-01-23T10:10:46.518975",
     "status": "completed"
    },
    "tags": []
   },
   "outputs": [],
   "source": [
    "def fill_size(row):\n",
    "    if(pd.isnull(row['Outlet_Size'])):\n",
    "        if(row['Outlet_Type']==\"Supermarket Type1\"):\n",
    "            row['Outlet_Size']=\"Small\"\n",
    "            return row\n",
    "        elif(row['Outlet_Type']==\"Supermarket Type2\"):\n",
    "            row['Outlet_Size']=\"Medium\"\n",
    "            return row\n",
    "        elif(row['Outlet_Type']==\"Supermarket Type3\"):\n",
    "            row['Outlet_Size']=\"Medium\"\n",
    "            return row\n",
    "        else:\n",
    "            row['Outlet_Size']=\"Small\"\n",
    "            return row\n",
    "    else:\n",
    "       return row"
   ]
  },
  {
   "cell_type": "code",
   "execution_count": 26,
   "metadata": {
    "execution": {
     "iopub.execute_input": "2021-01-23T10:10:46.667557Z",
     "iopub.status.busy": "2021-01-23T10:10:46.666722Z",
     "iopub.status.idle": "2021-01-23T10:10:47.439181Z",
     "shell.execute_reply": "2021-01-23T10:10:47.438336Z"
    },
    "papermill": {
     "duration": 0.820859,
     "end_time": "2021-01-23T10:10:47.439315",
     "exception": false,
     "start_time": "2021-01-23T10:10:46.618456",
     "status": "completed"
    },
    "tags": []
   },
   "outputs": [],
   "source": [
    "train_data = train_data.apply(fill_size,axis=1)"
   ]
  },
  {
   "cell_type": "code",
   "execution_count": 27,
   "metadata": {
    "execution": {
     "iopub.execute_input": "2021-01-23T10:10:47.532423Z",
     "iopub.status.busy": "2021-01-23T10:10:47.531708Z",
     "iopub.status.idle": "2021-01-23T10:10:47.737922Z",
     "shell.execute_reply": "2021-01-23T10:10:47.737355Z"
    },
    "papermill": {
     "duration": 0.254111,
     "end_time": "2021-01-23T10:10:47.738049",
     "exception": false,
     "start_time": "2021-01-23T10:10:47.483938",
     "status": "completed"
    },
    "tags": []
   },
   "outputs": [
    {
     "data": {
      "text/plain": [
       "<AxesSubplot:>"
      ]
     },
     "execution_count": 27,
     "metadata": {},
     "output_type": "execute_result"
    },
    {
     "data": {
      "image/png": "[encoded data removed]",
      "text/plain": [
       "<Figure size 432x288 with 1 Axes>"
      ]
     },
     "metadata": {
      "needs_background": "light"
     },
     "output_type": "display_data"
    }
   ],
   "source": [
    "sns.heatmap(train_data.isnull(),yticklabels=False,cbar=False,cmap='viridis')"
   ]
  },
  {
   "cell_type": "code",
   "execution_count": 28,
   "metadata": {
    "execution": {
     "iopub.execute_input": "2021-01-23T10:10:47.841428Z",
     "iopub.status.busy": "2021-01-23T10:10:47.840285Z",
     "iopub.status.idle": "2021-01-23T10:10:47.998897Z",
     "shell.execute_reply": "2021-01-23T10:10:47.998314Z"
    },
    "papermill": {
     "duration": 0.21429,
     "end_time": "2021-01-23T10:10:47.999019",
     "exception": false,
     "start_time": "2021-01-23T10:10:47.784729",
     "status": "completed"
    },
    "tags": []
   },
   "outputs": [
    {
     "data": {
      "text/plain": [
       "<AxesSubplot:>"
      ]
     },
     "execution_count": 28,
     "metadata": {},
     "output_type": "execute_result"
    },
    {
     "data": {
      "image/png": "[encoded data removed]",
      "text/plain": [
       "<Figure size 432x288 with 1 Axes>"
      ]
     },
     "metadata": {
      "needs_background": "light"
     },
     "output_type": "display_data"
    }
   ],
   "source": [
    "sns.heatmap(test_data.isnull(),yticklabels=False,cbar=False,cmap='viridis')"
   ]
  },
  {
   "cell_type": "code",
   "execution_count": 29,
   "metadata": {
    "execution": {
     "iopub.execute_input": "2021-01-23T10:10:48.127218Z",
     "iopub.status.busy": "2021-01-23T10:10:48.126085Z",
     "iopub.status.idle": "2021-01-23T10:10:48.136416Z",
     "shell.execute_reply": "2021-01-23T10:10:48.138703Z"
    },
    "papermill": {
     "duration": 0.092973,
     "end_time": "2021-01-23T10:10:48.138959",
     "exception": false,
     "start_time": "2021-01-23T10:10:48.045986",
     "status": "completed"
    },
    "tags": []
   },
   "outputs": [],
   "source": [
    "def fill_null2(row):\n",
    "    if(pd.isnull(row['Item_Weight'])):\n",
    "        row['Item_Weight']=test_data.groupby('Item_Type').mean()['Item_Weight'][row['Item_Type']]\n",
    "        return row\n",
    "    else:\n",
    "        return row"
   ]
  },
  {
   "cell_type": "code",
   "execution_count": 30,
   "metadata": {
    "execution": {
     "iopub.execute_input": "2021-01-23T10:10:48.267384Z",
     "iopub.status.busy": "2021-01-23T10:10:48.266336Z",
     "iopub.status.idle": "2021-01-23T10:10:51.623268Z",
     "shell.execute_reply": "2021-01-23T10:10:51.623887Z"
    },
    "papermill": {
     "duration": 3.411205,
     "end_time": "2021-01-23T10:10:51.624042",
     "exception": false,
     "start_time": "2021-01-23T10:10:48.212837",
     "status": "completed"
    },
    "tags": []
   },
   "outputs": [],
   "source": [
    "test_data = test_data.apply(fill_null2,axis=1)"
   ]
  },
  {
   "cell_type": "code",
   "execution_count": 31,
   "metadata": {
    "execution": {
     "iopub.execute_input": "2021-01-23T10:10:51.724588Z",
     "iopub.status.busy": "2021-01-23T10:10:51.723604Z",
     "iopub.status.idle": "2021-01-23T10:10:51.885766Z",
     "shell.execute_reply": "2021-01-23T10:10:51.885186Z"
    },
    "papermill": {
     "duration": 0.212811,
     "end_time": "2021-01-23T10:10:51.885899",
     "exception": false,
     "start_time": "2021-01-23T10:10:51.673088",
     "status": "completed"
    },
    "tags": []
   },
   "outputs": [
    {
     "data": {
      "text/plain": [
       "<AxesSubplot:>"
      ]
     },
     "execution_count": 31,
     "metadata": {},
     "output_type": "execute_result"
    },
    {
     "data": {
      "image/png": "[encoded data removed]",
      "text/plain": [
       "<Figure size 432x288 with 1 Axes>"
      ]
     },
     "metadata": {
      "needs_background": "light"
     },
     "output_type": "display_data"
    }
   ],
   "source": [
    "sns.heatmap(test_data.isnull(),yticklabels=False,cbar=False,cmap='viridis')"
   ]
  },
  {
   "cell_type": "code",
   "execution_count": 32,
   "metadata": {
    "execution": {
     "iopub.execute_input": "2021-01-23T10:10:52.004323Z",
     "iopub.status.busy": "2021-01-23T10:10:52.003284Z",
     "iopub.status.idle": "2021-01-23T10:10:52.193728Z",
     "shell.execute_reply": "2021-01-23T10:10:52.194293Z"
    },
    "papermill": {
     "duration": 0.259371,
     "end_time": "2021-01-23T10:10:52.194468",
     "exception": false,
     "start_time": "2021-01-23T10:10:51.935097",
     "status": "completed"
    },
    "tags": []
   },
   "outputs": [
    {
     "data": {
      "text/plain": [
       "<AxesSubplot:xlabel='Outlet_Size', ylabel='count'>"
      ]
     },
     "execution_count": 32,
     "metadata": {},
     "output_type": "execute_result"
    },
    {
     "data": {
      "image/png": "[encoded data removed]",
      "text/plain": [
       "<Figure size 432x288 with 1 Axes>"
      ]
     },
     "metadata": {
      "needs_background": "light"
     },
     "output_type": "display_data"
    }
   ],
   "source": [
    "sns.countplot(x='Outlet_Size',data=test_data,hue='Outlet_Type')"
   ]
  },
  {
   "cell_type": "code",
   "execution_count": 33,
   "metadata": {
    "execution": {
     "iopub.execute_input": "2021-01-23T10:10:52.298301Z",
     "iopub.status.busy": "2021-01-23T10:10:52.297303Z",
     "iopub.status.idle": "2021-01-23T10:10:52.305053Z",
     "shell.execute_reply": "2021-01-23T10:10:52.305584Z"
    },
    "papermill": {
     "duration": 0.061372,
     "end_time": "2021-01-23T10:10:52.305750",
     "exception": false,
     "start_time": "2021-01-23T10:10:52.244378",
     "status": "completed"
    },
    "tags": []
   },
   "outputs": [],
   "source": [
    "def fill_size2(row):\n",
    "    if(pd.isnull(row['Outlet_Size'])):\n",
    "        if(row['Outlet_Type']==\"Supermarket Type1\"):\n",
    "            row['Outlet_Size']=\"Small\"\n",
    "            return row\n",
    "        elif(row['Outlet_Type']==\"Supermarket Type2\"):\n",
    "            row['Outlet_Size']=\"Medium\"\n",
    "            return row\n",
    "        elif(row['Outlet_Type']==\"Supermarket Type3\"):\n",
    "            row['Outlet_Size']=\"Medium\"\n",
    "            return row\n",
    "        else:\n",
    "            row['Outlet_Size']=\"Small\"\n",
    "            return row\n",
    "    else:\n",
    "       return row"
   ]
  },
  {
   "cell_type": "code",
   "execution_count": 34,
   "metadata": {
    "execution": {
     "iopub.execute_input": "2021-01-23T10:10:52.411208Z",
     "iopub.status.busy": "2021-01-23T10:10:52.410187Z",
     "iopub.status.idle": "2021-01-23T10:10:52.967009Z",
     "shell.execute_reply": "2021-01-23T10:10:52.966283Z"
    },
    "papermill": {
     "duration": 0.610466,
     "end_time": "2021-01-23T10:10:52.967125",
     "exception": false,
     "start_time": "2021-01-23T10:10:52.356659",
     "status": "completed"
    },
    "tags": []
   },
   "outputs": [],
   "source": [
    "test_data = test_data.apply(fill_size2,axis=1)"
   ]
  },
  {
   "cell_type": "code",
   "execution_count": 35,
   "metadata": {
    "execution": {
     "iopub.execute_input": "2021-01-23T10:10:53.080265Z",
     "iopub.status.busy": "2021-01-23T10:10:53.079459Z",
     "iopub.status.idle": "2021-01-23T10:10:53.236428Z",
     "shell.execute_reply": "2021-01-23T10:10:53.235804Z"
    },
    "papermill": {
     "duration": 0.219121,
     "end_time": "2021-01-23T10:10:53.236540",
     "exception": false,
     "start_time": "2021-01-23T10:10:53.017419",
     "status": "completed"
    },
    "tags": []
   },
   "outputs": [
    {
     "data": {
      "text/plain": [
       "<AxesSubplot:>"
      ]
     },
     "execution_count": 35,
     "metadata": {},
     "output_type": "execute_result"
    },
    {
     "data": {
      "image/png": "[encoded data removed]",
      "text/plain": [
       "<Figure size 432x288 with 1 Axes>"
      ]
     },
     "metadata": {
      "needs_background": "light"
     },
     "output_type": "display_data"
    }
   ],
   "source": [
    "sns.heatmap(test_data.isnull(),yticklabels=False,cbar=False,cmap='viridis')"
   ]
  },
  {
   "cell_type": "code",
   "execution_count": 36,
   "metadata": {
    "execution": {
     "iopub.execute_input": "2021-01-23T10:10:53.349241Z",
     "iopub.status.busy": "2021-01-23T10:10:53.348102Z",
     "iopub.status.idle": "2021-01-23T10:10:53.375426Z",
     "shell.execute_reply": "2021-01-23T10:10:53.374810Z"
    },
    "papermill": {
     "duration": 0.087379,
     "end_time": "2021-01-23T10:10:53.375544",
     "exception": false,
     "start_time": "2021-01-23T10:10:53.288165",
     "status": "completed"
    },
    "tags": []
   },
   "outputs": [],
   "source": [
    "#Splitting the Item_type to different columns\n",
    "data_types = train_data.dtypes\n",
    "for cols in train_data.columns:\n",
    "    if data_types[cols]==data_types['Item_Type']:\n",
    "        temp = pd.get_dummies(train_data[cols],drop_first=True)\n",
    "        train_data.drop(cols,axis=1,inplace=True)\n",
    "        train_data = pd.concat([train_data,temp],axis=1)\n",
    "#data.head()"
   ]
  },
  {
   "cell_type": "code",
   "execution_count": 37,
   "metadata": {
    "execution": {
     "iopub.execute_input": "2021-01-23T10:10:53.496601Z",
     "iopub.status.busy": "2021-01-23T10:10:53.495892Z",
     "iopub.status.idle": "2021-01-23T10:10:53.509579Z",
     "shell.execute_reply": "2021-01-23T10:10:53.510107Z"
    },
    "papermill": {
     "duration": 0.08316,
     "end_time": "2021-01-23T10:10:53.510268",
     "exception": false,
     "start_time": "2021-01-23T10:10:53.427108",
     "status": "completed"
    },
    "tags": []
   },
   "outputs": [
    {
     "data": {
      "text/html": [
       "<div>\n",
       "<style scoped>\n",
       "    .dataframe tbody tr th:only-of-type {\n",
       "        vertical-align: middle;\n",
       "    }\n",
       "\n",
       "    .dataframe tbody tr th {\n",
       "        vertical-align: top;\n",
       "    }\n",
       "\n",
       "    .dataframe thead th {\n",
       "        text-align: right;\n",
       "    }\n",
       "</style>\n",
       "<table border=\"1\" class=\"dataframe\">\n",
       "  <thead>\n",
       "    <tr style=\"text-align: right;\">\n",
       "      <th></th>\n",
       "      <th>Item_Weight</th>\n",
       "      <th>Item_Visibility</th>\n",
       "      <th>Item_MRP</th>\n",
       "      <th>Outlet_Establishment_Year</th>\n",
       "      <th>Item_Outlet_Sales</th>\n",
       "      <th>Regular</th>\n",
       "      <th>Breads</th>\n",
       "      <th>Breakfast</th>\n",
       "      <th>Canned</th>\n",
       "      <th>Dairy</th>\n",
       "      <th>...</th>\n",
       "      <th>Snack Foods</th>\n",
       "      <th>Soft Drinks</th>\n",
       "      <th>Starchy Foods</th>\n",
       "      <th>Medium</th>\n",
       "      <th>Small</th>\n",
       "      <th>Tier 2</th>\n",
       "      <th>Tier 3</th>\n",
       "      <th>Supermarket Type1</th>\n",
       "      <th>Supermarket Type2</th>\n",
       "      <th>Supermarket Type3</th>\n",
       "    </tr>\n",
       "  </thead>\n",
       "  <tbody>\n",
       "    <tr>\n",
       "      <th>0</th>\n",
       "      <td>9.30</td>\n",
       "      <td>0.016047</td>\n",
       "      <td>249.8092</td>\n",
       "      <td>1999</td>\n",
       "      <td>3735.1380</td>\n",
       "      <td>0</td>\n",
       "      <td>0</td>\n",
       "      <td>0</td>\n",
       "      <td>0</td>\n",
       "      <td>1</td>\n",
       "      <td>...</td>\n",
       "      <td>0</td>\n",
       "      <td>0</td>\n",
       "      <td>0</td>\n",
       "      <td>1</td>\n",
       "      <td>0</td>\n",
       "      <td>0</td>\n",
       "      <td>0</td>\n",
       "      <td>1</td>\n",
       "      <td>0</td>\n",
       "      <td>0</td>\n",
       "    </tr>\n",
       "    <tr>\n",
       "      <th>1</th>\n",
       "      <td>5.92</td>\n",
       "      <td>0.019278</td>\n",
       "      <td>48.2692</td>\n",
       "      <td>2009</td>\n",
       "      <td>443.4228</td>\n",
       "      <td>1</td>\n",
       "      <td>0</td>\n",
       "      <td>0</td>\n",
       "      <td>0</td>\n",
       "      <td>0</td>\n",
       "      <td>...</td>\n",
       "      <td>0</td>\n",
       "      <td>1</td>\n",
       "      <td>0</td>\n",
       "      <td>1</td>\n",
       "      <td>0</td>\n",
       "      <td>0</td>\n",
       "      <td>1</td>\n",
       "      <td>0</td>\n",
       "      <td>1</td>\n",
       "      <td>0</td>\n",
       "    </tr>\n",
       "    <tr>\n",
       "      <th>2</th>\n",
       "      <td>17.50</td>\n",
       "      <td>0.016760</td>\n",
       "      <td>141.6180</td>\n",
       "      <td>1999</td>\n",
       "      <td>2097.2700</td>\n",
       "      <td>0</td>\n",
       "      <td>0</td>\n",
       "      <td>0</td>\n",
       "      <td>0</td>\n",
       "      <td>0</td>\n",
       "      <td>...</td>\n",
       "      <td>0</td>\n",
       "      <td>0</td>\n",
       "      <td>0</td>\n",
       "      <td>1</td>\n",
       "      <td>0</td>\n",
       "      <td>0</td>\n",
       "      <td>0</td>\n",
       "      <td>1</td>\n",
       "      <td>0</td>\n",
       "      <td>0</td>\n",
       "    </tr>\n",
       "    <tr>\n",
       "      <th>3</th>\n",
       "      <td>19.20</td>\n",
       "      <td>0.000000</td>\n",
       "      <td>182.0950</td>\n",
       "      <td>1998</td>\n",
       "      <td>732.3800</td>\n",
       "      <td>1</td>\n",
       "      <td>0</td>\n",
       "      <td>0</td>\n",
       "      <td>0</td>\n",
       "      <td>0</td>\n",
       "      <td>...</td>\n",
       "      <td>0</td>\n",
       "      <td>0</td>\n",
       "      <td>0</td>\n",
       "      <td>0</td>\n",
       "      <td>1</td>\n",
       "      <td>0</td>\n",
       "      <td>1</td>\n",
       "      <td>0</td>\n",
       "      <td>0</td>\n",
       "      <td>0</td>\n",
       "    </tr>\n",
       "    <tr>\n",
       "      <th>4</th>\n",
       "      <td>8.93</td>\n",
       "      <td>0.000000</td>\n",
       "      <td>53.8614</td>\n",
       "      <td>1987</td>\n",
       "      <td>994.7052</td>\n",
       "      <td>0</td>\n",
       "      <td>0</td>\n",
       "      <td>0</td>\n",
       "      <td>0</td>\n",
       "      <td>0</td>\n",
       "      <td>...</td>\n",
       "      <td>0</td>\n",
       "      <td>0</td>\n",
       "      <td>0</td>\n",
       "      <td>0</td>\n",
       "      <td>0</td>\n",
       "      <td>0</td>\n",
       "      <td>1</td>\n",
       "      <td>1</td>\n",
       "      <td>0</td>\n",
       "      <td>0</td>\n",
       "    </tr>\n",
       "  </tbody>\n",
       "</table>\n",
       "<p>5 rows × 28 columns</p>\n",
       "</div>"
      ],
      "text/plain": [
       "   Item_Weight  Item_Visibility  Item_MRP  Outlet_Establishment_Year  \\\n",
       "0         9.30         0.016047  249.8092                       1999   \n",
       "1         5.92         0.019278   48.2692                       2009   \n",
       "2        17.50         0.016760  141.6180                       1999   \n",
       "3        19.20         0.000000  182.0950                       1998   \n",
       "4         8.93         0.000000   53.8614                       1987   \n",
       "\n",
       "   Item_Outlet_Sales  Regular  Breads  Breakfast  Canned  Dairy  ...  \\\n",
       "0          3735.1380        0       0          0       0      1  ...   \n",
       "1           443.4228        1       0          0       0      0  ...   \n",
       "2          2097.2700        0       0          0       0      0  ...   \n",
       "3           732.3800        1       0          0       0      0  ...   \n",
       "4           994.7052        0       0          0       0      0  ...   \n",
       "\n",
       "   Snack Foods  Soft Drinks  Starchy Foods  Medium  Small  Tier 2  Tier 3  \\\n",
       "0            0            0              0       1      0       0       0   \n",
       "1            0            1              0       1      0       0       1   \n",
       "2            0            0              0       1      0       0       0   \n",
       "3            0            0              0       0      1       0       1   \n",
       "4            0            0              0       0      0       0       1   \n",
       "\n",
       "   Supermarket Type1  Supermarket Type2  Supermarket Type3  \n",
       "0                  1                  0                  0  \n",
       "1                  0                  1                  0  \n",
       "2                  1                  0                  0  \n",
       "3                  0                  0                  0  \n",
       "4                  1                  0                  0  \n",
       "\n",
       "[5 rows x 28 columns]"
      ]
     },
     "execution_count": 37,
     "metadata": {},
     "output_type": "execute_result"
    }
   ],
   "source": [
    "train_data.head()"
   ]
  },
  {
   "cell_type": "code",
   "execution_count": 38,
   "metadata": {},
   "outputs": [
    {
     "data": {
      "text/plain": [
       "(8523, 28)"
      ]
     },
     "execution_count": 38,
     "metadata": {},
     "output_type": "execute_result"
    }
   ],
   "source": [
    "train_data.shape"
   ]
  },
  {
   "cell_type": "code",
   "execution_count": 39,
   "metadata": {
    "execution": {
     "iopub.execute_input": "2021-01-23T10:10:53.621551Z",
     "iopub.status.busy": "2021-01-23T10:10:53.620862Z",
     "iopub.status.idle": "2021-01-23T10:10:53.646932Z",
     "shell.execute_reply": "2021-01-23T10:10:53.647519Z"
    },
    "papermill": {
     "duration": 0.083903,
     "end_time": "2021-01-23T10:10:53.647689",
     "exception": false,
     "start_time": "2021-01-23T10:10:53.563786",
     "status": "completed"
    },
    "tags": []
   },
   "outputs": [],
   "source": [
    "data_types = test_data.dtypes\n",
    "for cols in test_data.columns:\n",
    "    if data_types[cols]==data_types['Item_Type']:\n",
    "        temp = pd.get_dummies(test_data[cols],drop_first=True)\n",
    "        test_data.drop(cols,axis=1,inplace=True)\n",
    "        test_data = pd.concat([test_data,temp],axis=1)"
   ]
  },
  {
   "cell_type": "code",
   "execution_count": 40,
   "metadata": {
    "execution": {
     "iopub.execute_input": "2021-01-23T10:10:53.758967Z",
     "iopub.status.busy": "2021-01-23T10:10:53.758150Z",
     "iopub.status.idle": "2021-01-23T10:10:53.779335Z",
     "shell.execute_reply": "2021-01-23T10:10:53.779951Z"
    },
    "papermill": {
     "duration": 0.078057,
     "end_time": "2021-01-23T10:10:53.780107",
     "exception": false,
     "start_time": "2021-01-23T10:10:53.702050",
     "status": "completed"
    },
    "tags": []
   },
   "outputs": [
    {
     "data": {
      "text/html": [
       "<div>\n",
       "<style scoped>\n",
       "    .dataframe tbody tr th:only-of-type {\n",
       "        vertical-align: middle;\n",
       "    }\n",
       "\n",
       "    .dataframe tbody tr th {\n",
       "        vertical-align: top;\n",
       "    }\n",
       "\n",
       "    .dataframe thead th {\n",
       "        text-align: right;\n",
       "    }\n",
       "</style>\n",
       "<table border=\"1\" class=\"dataframe\">\n",
       "  <thead>\n",
       "    <tr style=\"text-align: right;\">\n",
       "      <th></th>\n",
       "      <th>Item_Weight</th>\n",
       "      <th>Item_Visibility</th>\n",
       "      <th>Item_MRP</th>\n",
       "      <th>Outlet_Establishment_Year</th>\n",
       "      <th>Regular</th>\n",
       "      <th>Breads</th>\n",
       "      <th>Breakfast</th>\n",
       "      <th>Canned</th>\n",
       "      <th>Dairy</th>\n",
       "      <th>Frozen Foods</th>\n",
       "      <th>...</th>\n",
       "      <th>Snack Foods</th>\n",
       "      <th>Soft Drinks</th>\n",
       "      <th>Starchy Foods</th>\n",
       "      <th>Medium</th>\n",
       "      <th>Small</th>\n",
       "      <th>Tier 2</th>\n",
       "      <th>Tier 3</th>\n",
       "      <th>Supermarket Type1</th>\n",
       "      <th>Supermarket Type2</th>\n",
       "      <th>Supermarket Type3</th>\n",
       "    </tr>\n",
       "  </thead>\n",
       "  <tbody>\n",
       "    <tr>\n",
       "      <th>0</th>\n",
       "      <td>20.75000</td>\n",
       "      <td>0.007565</td>\n",
       "      <td>107.8622</td>\n",
       "      <td>1999</td>\n",
       "      <td>0</td>\n",
       "      <td>0</td>\n",
       "      <td>0</td>\n",
       "      <td>0</td>\n",
       "      <td>0</td>\n",
       "      <td>0</td>\n",
       "      <td>...</td>\n",
       "      <td>1</td>\n",
       "      <td>0</td>\n",
       "      <td>0</td>\n",
       "      <td>1</td>\n",
       "      <td>0</td>\n",
       "      <td>0</td>\n",
       "      <td>0</td>\n",
       "      <td>1</td>\n",
       "      <td>0</td>\n",
       "      <td>0</td>\n",
       "    </tr>\n",
       "    <tr>\n",
       "      <th>1</th>\n",
       "      <td>8.30000</td>\n",
       "      <td>0.038428</td>\n",
       "      <td>87.3198</td>\n",
       "      <td>2007</td>\n",
       "      <td>1</td>\n",
       "      <td>0</td>\n",
       "      <td>0</td>\n",
       "      <td>0</td>\n",
       "      <td>1</td>\n",
       "      <td>0</td>\n",
       "      <td>...</td>\n",
       "      <td>0</td>\n",
       "      <td>0</td>\n",
       "      <td>0</td>\n",
       "      <td>0</td>\n",
       "      <td>1</td>\n",
       "      <td>1</td>\n",
       "      <td>0</td>\n",
       "      <td>1</td>\n",
       "      <td>0</td>\n",
       "      <td>0</td>\n",
       "    </tr>\n",
       "    <tr>\n",
       "      <th>2</th>\n",
       "      <td>14.60000</td>\n",
       "      <td>0.099575</td>\n",
       "      <td>241.7538</td>\n",
       "      <td>1998</td>\n",
       "      <td>0</td>\n",
       "      <td>0</td>\n",
       "      <td>0</td>\n",
       "      <td>0</td>\n",
       "      <td>0</td>\n",
       "      <td>0</td>\n",
       "      <td>...</td>\n",
       "      <td>0</td>\n",
       "      <td>0</td>\n",
       "      <td>0</td>\n",
       "      <td>0</td>\n",
       "      <td>1</td>\n",
       "      <td>0</td>\n",
       "      <td>1</td>\n",
       "      <td>0</td>\n",
       "      <td>0</td>\n",
       "      <td>0</td>\n",
       "    </tr>\n",
       "    <tr>\n",
       "      <th>3</th>\n",
       "      <td>7.31500</td>\n",
       "      <td>0.015388</td>\n",
       "      <td>155.0340</td>\n",
       "      <td>2007</td>\n",
       "      <td>0</td>\n",
       "      <td>0</td>\n",
       "      <td>0</td>\n",
       "      <td>0</td>\n",
       "      <td>0</td>\n",
       "      <td>0</td>\n",
       "      <td>...</td>\n",
       "      <td>1</td>\n",
       "      <td>0</td>\n",
       "      <td>0</td>\n",
       "      <td>0</td>\n",
       "      <td>1</td>\n",
       "      <td>1</td>\n",
       "      <td>0</td>\n",
       "      <td>1</td>\n",
       "      <td>0</td>\n",
       "      <td>0</td>\n",
       "    </tr>\n",
       "    <tr>\n",
       "      <th>4</th>\n",
       "      <td>12.95504</td>\n",
       "      <td>0.118599</td>\n",
       "      <td>234.2300</td>\n",
       "      <td>1985</td>\n",
       "      <td>1</td>\n",
       "      <td>0</td>\n",
       "      <td>0</td>\n",
       "      <td>0</td>\n",
       "      <td>1</td>\n",
       "      <td>0</td>\n",
       "      <td>...</td>\n",
       "      <td>0</td>\n",
       "      <td>0</td>\n",
       "      <td>0</td>\n",
       "      <td>1</td>\n",
       "      <td>0</td>\n",
       "      <td>0</td>\n",
       "      <td>1</td>\n",
       "      <td>0</td>\n",
       "      <td>0</td>\n",
       "      <td>1</td>\n",
       "    </tr>\n",
       "  </tbody>\n",
       "</table>\n",
       "<p>5 rows × 27 columns</p>\n",
       "</div>"
      ],
      "text/plain": [
       "   Item_Weight  Item_Visibility  Item_MRP  Outlet_Establishment_Year  Regular  \\\n",
       "0     20.75000         0.007565  107.8622                       1999        0   \n",
       "1      8.30000         0.038428   87.3198                       2007        1   \n",
       "2     14.60000         0.099575  241.7538                       1998        0   \n",
       "3      7.31500         0.015388  155.0340                       2007        0   \n",
       "4     12.95504         0.118599  234.2300                       1985        1   \n",
       "\n",
       "   Breads  Breakfast  Canned  Dairy  Frozen Foods  ...  Snack Foods  \\\n",
       "0       0          0       0      0             0  ...            1   \n",
       "1       0          0       0      1             0  ...            0   \n",
       "2       0          0       0      0             0  ...            0   \n",
       "3       0          0       0      0             0  ...            1   \n",
       "4       0          0       0      1             0  ...            0   \n",
       "\n",
       "   Soft Drinks  Starchy Foods  Medium  Small  Tier 2  Tier 3  \\\n",
       "0            0              0       1      0       0       0   \n",
       "1            0              0       0      1       1       0   \n",
       "2            0              0       0      1       0       1   \n",
       "3            0              0       0      1       1       0   \n",
       "4            0              0       1      0       0       1   \n",
       "\n",
       "   Supermarket Type1  Supermarket Type2  Supermarket Type3  \n",
       "0                  1                  0                  0  \n",
       "1                  1                  0                  0  \n",
       "2                  0                  0                  0  \n",
       "3                  1                  0                  0  \n",
       "4                  0                  0                  1  \n",
       "\n",
       "[5 rows x 27 columns]"
      ]
     },
     "execution_count": 40,
     "metadata": {},
     "output_type": "execute_result"
    }
   ],
   "source": [
    "test_data.head()"
   ]
  },
  {
   "cell_type": "code",
   "execution_count": 41,
   "metadata": {},
   "outputs": [
    {
     "data": {
      "text/plain": [
       "(5681, 27)"
      ]
     },
     "execution_count": 41,
     "metadata": {},
     "output_type": "execute_result"
    }
   ],
   "source": [
    "test_data.shape"
   ]
  },
  {
   "cell_type": "code",
   "execution_count": null,
   "metadata": {},
   "outputs": [],
   "source": []
  },
  {
   "cell_type": "markdown",
   "metadata": {},
   "source": [
    "# Models"
   ]
  },
  {
   "cell_type": "code",
   "execution_count": 46,
   "metadata": {
    "execution": {
     "iopub.execute_input": "2021-01-23T10:10:53.892882Z",
     "iopub.status.busy": "2021-01-23T10:10:53.892047Z",
     "iopub.status.idle": "2021-01-23T10:10:54.319778Z",
     "shell.execute_reply": "2021-01-23T10:10:54.318182Z"
    },
    "papermill": {
     "duration": 0.486115,
     "end_time": "2021-01-23T10:10:54.319919",
     "exception": false,
     "start_time": "2021-01-23T10:10:53.833804",
     "status": "completed"
    },
    "tags": []
   },
   "outputs": [
    {
     "data": {
      "text/plain": [
       "DecisionTreeRegressor()"
      ]
     },
     "execution_count": 46,
     "metadata": {},
     "output_type": "execute_result"
    }
   ],
   "source": [
    "from sklearn.tree import DecisionTreeRegressor\n",
    "regr = DecisionTreeRegressor()\n",
    "regr.fit(train_data.drop('Item_Outlet_Sales',axis=1),train_data['Item_Outlet_Sales'])"
   ]
  },
  {
   "cell_type": "code",
   "execution_count": 47,
   "metadata": {
    "execution": {
     "iopub.execute_input": "2021-01-23T10:10:54.438330Z",
     "iopub.status.busy": "2021-01-23T10:10:54.435331Z",
     "iopub.status.idle": "2021-01-23T10:10:54.451083Z",
     "shell.execute_reply": "2021-01-23T10:10:54.450121Z"
    },
    "papermill": {
     "duration": 0.077112,
     "end_time": "2021-01-23T10:10:54.451235",
     "exception": false,
     "start_time": "2021-01-23T10:10:54.374123",
     "status": "completed"
    },
    "tags": []
   },
   "outputs": [],
   "source": [
    "# X_train = train_data.drop('Item_Outlet_Sales',axis=1)\n",
    "# y_train = train_data['Item_Outlet_Sales']\n",
    "# print(\"Training Accuracy for Decision Tree regressor :\", regr.score(X_train, y_train)*100,\"%\")"
   ]
  },
  {
   "cell_type": "code",
   "execution_count": null,
   "metadata": {},
   "outputs": [],
   "source": []
  },
  {
   "cell_type": "code",
   "execution_count": 48,
   "metadata": {},
   "outputs": [],
   "source": [
    "X = train_data.drop('Item_Outlet_Sales',axis=1)\n",
    "y = train_data['Item_Outlet_Sales']\n",
    "from sklearn.model_selection import train_test_split\n",
    "X_train, X_test, y_train, y_test = train_test_split(X, y, test_size=0.2)"
   ]
  },
  {
   "cell_type": "code",
   "execution_count": 49,
   "metadata": {
    "execution": {
     "iopub.execute_input": "2021-01-23T10:10:54.570958Z",
     "iopub.status.busy": "2021-01-23T10:10:54.567433Z",
     "iopub.status.idle": "2021-01-23T10:10:54.574766Z",
     "shell.execute_reply": "2021-01-23T10:10:54.574177Z"
    },
    "papermill": {
     "duration": 0.068641,
     "end_time": "2021-01-23T10:10:54.574900",
     "exception": false,
     "start_time": "2021-01-23T10:10:54.506259",
     "status": "completed"
    },
    "tags": []
   },
   "outputs": [],
   "source": [
    "predictions = regr.predict(test_data)"
   ]
  },
  {
   "cell_type": "code",
   "execution_count": 50,
   "metadata": {
    "execution": {
     "iopub.execute_input": "2021-01-23T10:10:54.695995Z",
     "iopub.status.busy": "2021-01-23T10:10:54.694622Z",
     "iopub.status.idle": "2021-01-23T10:10:54.698916Z",
     "shell.execute_reply": "2021-01-23T10:10:54.699394Z"
    },
    "papermill": {
     "duration": 0.069107,
     "end_time": "2021-01-23T10:10:54.699550",
     "exception": false,
     "start_time": "2021-01-23T10:10:54.630443",
     "status": "completed"
    },
    "tags": []
   },
   "outputs": [
    {
     "data": {
      "text/plain": [
       "0       2087.2830\n",
       "1       1328.2710\n",
       "2        759.0120\n",
       "3       2025.3636\n",
       "4       7170.6660\n",
       "          ...    \n",
       "5676    3829.0158\n",
       "5677    1794.3310\n",
       "5678     468.7232\n",
       "5679    7247.2330\n",
       "5680    1038.6480\n",
       "Length: 5681, dtype: float64"
      ]
     },
     "execution_count": 50,
     "metadata": {},
     "output_type": "execute_result"
    }
   ],
   "source": [
    "pd.Series(predictions)"
   ]
  },
  {
   "cell_type": "markdown",
   "metadata": {},
   "source": [
    "## Linear Regression\n",
    "Linear regression is used to predict the relationship between two variables by applying a linear equation to observed data. There are two types of variable, one variable is called an independent variable, and the other is a dependent variable. Linear regression is commonly used for predictive analysis."
   ]
  },
  {
   "cell_type": "code",
   "execution_count": 51,
   "metadata": {},
   "outputs": [
    {
     "data": {
      "application/javascript": [
       "\n",
       "        if (window._pyforest_update_imports_cell) { window._pyforest_update_imports_cell('from sklearn.linear_model import LinearRegression'); }\n",
       "    "
      ],
      "text/plain": [
       "<IPython.core.display.Javascript object>"
      ]
     },
     "metadata": {},
     "output_type": "display_data"
    }
   ],
   "source": [
    "lm = LinearRegression()"
   ]
  },
  {
   "cell_type": "code",
   "execution_count": 52,
   "metadata": {},
   "outputs": [
    {
     "data": {
      "text/plain": [
       "LinearRegression()"
      ]
     },
     "execution_count": 52,
     "metadata": {},
     "output_type": "execute_result"
    }
   ],
   "source": [
    "lm.fit(X_train,y_train)"
   ]
  },
  {
   "cell_type": "code",
   "execution_count": 53,
   "metadata": {},
   "outputs": [
    {
     "data": {
      "text/plain": [
       "array([2494.41825374, 2837.23409095, 3447.65167915, ..., 2025.95397354,\n",
       "       2826.53952724, 1777.8038662 ])"
      ]
     },
     "execution_count": 53,
     "metadata": {},
     "output_type": "execute_result"
    }
   ],
   "source": [
    "predictions = lm.predict(X_test)\n",
    "predictions"
   ]
  },
  {
   "cell_type": "code",
   "execution_count": 54,
   "metadata": {},
   "outputs": [],
   "source": [
    "from sklearn import metrics"
   ]
  },
  {
   "cell_type": "code",
   "execution_count": 55,
   "metadata": {},
   "outputs": [
    {
     "data": {
      "text/plain": [
       "55.690025773221905"
      ]
     },
     "execution_count": 55,
     "metadata": {},
     "output_type": "execute_result"
    }
   ],
   "source": [
    "metrics.r2_score(y_test,predictions)*100"
   ]
  },
  {
   "cell_type": "code",
   "execution_count": null,
   "metadata": {},
   "outputs": [],
   "source": []
  },
  {
   "cell_type": "markdown",
   "metadata": {},
   "source": [
    "## Decision Tree\n",
    "Decision trees in Python can be used to solve both classification and regression problems—they are frequently used in determining odds"
   ]
  },
  {
   "cell_type": "code",
   "execution_count": 56,
   "metadata": {},
   "outputs": [
    {
     "data": {
      "text/plain": [
       "DecisionTreeRegressor()"
      ]
     },
     "execution_count": 56,
     "metadata": {},
     "output_type": "execute_result"
    }
   ],
   "source": [
    "regr.fit(X,y)"
   ]
  },
  {
   "cell_type": "code",
   "execution_count": 57,
   "metadata": {},
   "outputs": [
    {
     "data": {
      "text/plain": [
       "array([3159.8868, 4103.9912, 3089.9778, ..., 1108.557 , 1155.8288,\n",
       "       2402.2064])"
      ]
     },
     "execution_count": 57,
     "metadata": {},
     "output_type": "execute_result"
    }
   ],
   "source": [
    "y_pred = regr.predict(X_test)\n",
    "y_pred"
   ]
  },
  {
   "cell_type": "code",
   "execution_count": 58,
   "metadata": {},
   "outputs": [
    {
     "data": {
      "text/plain": [
       "100.0"
      ]
     },
     "execution_count": 58,
     "metadata": {},
     "output_type": "execute_result"
    }
   ],
   "source": [
    "metrics.r2_score(y_test,y_pred)*100"
   ]
  },
  {
   "cell_type": "code",
   "execution_count": null,
   "metadata": {},
   "outputs": [],
   "source": []
  },
  {
   "cell_type": "markdown",
   "metadata": {},
   "source": [
    "## Random forest\n",
    "Random Forest is a powerful and versatile supervised machine learning algorithm that grows and combines multiple decision trees to create a “forest.” It can be used for both classification and regression problems."
   ]
  },
  {
   "cell_type": "code",
   "execution_count": 59,
   "metadata": {},
   "outputs": [],
   "source": [
    "from sklearn.ensemble import RandomForestRegressor"
   ]
  },
  {
   "cell_type": "code",
   "execution_count": 60,
   "metadata": {},
   "outputs": [],
   "source": [
    "regressor = RandomForestRegressor(n_estimators=100,random_state=0)"
   ]
  },
  {
   "cell_type": "raw",
   "metadata": {},
   "source": [
    " "
   ]
  },
  {
   "cell_type": "code",
   "execution_count": 61,
   "metadata": {},
   "outputs": [
    {
     "data": {
      "text/plain": [
       "RandomForestRegressor(random_state=0)"
      ]
     },
     "execution_count": 61,
     "metadata": {},
     "output_type": "execute_result"
    }
   ],
   "source": [
    "regressor.fit(X,y)"
   ]
  },
  {
   "cell_type": "code",
   "execution_count": 62,
   "metadata": {},
   "outputs": [
    {
     "data": {
      "text/plain": [
       "array([2832.239962, 3723.05373 , 3019.955614, ..., 1413.866248,\n",
       "       2036.442512, 2303.328442])"
      ]
     },
     "execution_count": 62,
     "metadata": {},
     "output_type": "execute_result"
    }
   ],
   "source": [
    "y_predictions = regressor.predict(X_test)\n",
    "y_predictions"
   ]
  },
  {
   "cell_type": "code",
   "execution_count": 63,
   "metadata": {},
   "outputs": [
    {
     "data": {
      "text/plain": [
       "93.86110107694299"
      ]
     },
     "execution_count": 63,
     "metadata": {},
     "output_type": "execute_result"
    }
   ],
   "source": [
    "metrics.r2_score(y_test,y_predictions)*100"
   ]
  },
  {
   "cell_type": "code",
   "execution_count": null,
   "metadata": {},
   "outputs": [],
   "source": []
  },
  {
   "cell_type": "code",
   "execution_count": null,
   "metadata": {},
   "outputs": [],
   "source": []
  },
  {
   "cell_type": "markdown",
   "metadata": {
    "papermill": {
     "duration": 0.054884,
     "end_time": "2021-01-23T10:10:54.810881",
     "exception": false,
     "start_time": "2021-01-23T10:10:54.755997",
     "status": "completed"
    },
    "tags": []
   },
   "source": [
    "# Conclusion\n",
    "\n",
    "After a whole lot of preprocessiong we were finally able to develop a dataset which was good enough for our model to run. I didn't explain anything step wise but a lot of it is self explanatory. Output might not be same all the time you run the code. It may go up or down. In the real world scenario, we save the model as soon we get the highest accuracy."
   ]
  }
 ],
 "metadata": {
  "kernelspec": {
   "display_name": "Python 3",
   "language": "python",
   "name": "python3"
  },
  "language_info": {
   "codemirror_mode": {
    "name": "ipython",
    "version": 3
   },
   "file_extension": ".py",
   "mimetype": "text/x-python",
   "name": "python",
   "nbconvert_exporter": "python",
   "pygments_lexer": "ipython3",
   "version": "3.8.8"
  },
  "papermill": {
   "duration": 24.986191,
   "end_time": "2021-01-23T10:10:54.974334",
   "environment_variables": {},
   "exception": null,
   "input_path": "__notebook__.ipynb",
   "output_path": "__notebook__.ipynb",
   "parameters": {},
   "start_time": "2021-01-23T10:10:29.988143",
   "version": "2.1.0"
  }
 },
 "nbformat": 4,
 "nbformat_minor": 4
}
